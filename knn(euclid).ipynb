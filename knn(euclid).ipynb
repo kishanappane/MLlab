{
 "cells": [
  {
   "cell_type": "code",
   "execution_count": 4,
   "id": "2aa7f0f8-62ee-450a-be6c-dc365af7175c",
   "metadata": {},
   "outputs": [
    {
     "name": "stdout",
     "output_type": "stream",
     "text": [
      "[2, 1, 1, 7, 1, 2, 1, 2, 2, 1, 1, 1, 1, 2, 5, 1, 1, 5, 5, 2, 2, 1, 7, 2, 1, 3, 1, 5, 1, 2, 7, 2, 1, 2, 1, 1, 1, 1, 1, 2, 1, 7, 2, 2, 2, 7, 7, 2, 1, 7, 6, 3, 1, 1, 1, 1, 2, 3, 1, 7, 1, 1, 5, 2, 2]\n",
      "Accuracy: 0.6307692307692307\n"
     ]
    }
   ],
   "source": [
    "import numpy as np\n",
    "from collections import Counter\n",
    "from sklearn.model_selection import train_test_split\n",
    "\n",
    "def euclidean_distance(x1, x2):\n",
    "    distance = np.sqrt(np.sum((x1 - x2) ** 2))\n",
    "    return distance\n",
    "\n",
    "class KNN:\n",
    "    def __init__(self, k=3):\n",
    "        self.k = k\n",
    "\n",
    "    def fit(self, X, y):\n",
    "        self.X_train = X\n",
    "        self.y_train = y\n",
    "\n",
    "    def predict(self, X):\n",
    "        predictions = [self._predict(x) for x in X]\n",
    "        return predictions\n",
    "\n",
    "    def _predict(self, x):\n",
    "        distances = [euclidean_distance(x, x_train) for x_train in self.X_train]\n",
    "        k_indices = np.argsort(distances)[:self.k]\n",
    "        k_nearest_labels = [self.y_train[i] for i in k_indices]\n",
    "        most_common = Counter(k_nearest_labels).most_common()\n",
    "        return most_common[0][0]\n",
    "\n",
    "df = pd.read_csv('glass.csv')\n",
    "X = df.drop('Type', axis=1).values\n",
    "y = df['Type'].values\n",
    "X_train, X_test, y_train, y_test = train_test_split(X, y, test_size=0.3, random_state=1234)\n",
    "\n",
    "clf = KNN(k=3)\n",
    "clf.fit(X_train, y_train)\n",
    "predictions = clf.predict(X_test)\n",
    "\n",
    "\n",
    "accuracy = np.sum(predictions == y_test) / len(y_test)\n",
    "print(predictions)\n",
    "print(\"Accuracy:\", accuracy)"
   ]
  },
  {
   "cell_type": "code",
   "execution_count": 5,
   "id": "2f189ac4-78b9-4c4d-97e0-1b37dc02c846",
   "metadata": {},
   "outputs": [
    {
     "ename": "SyntaxError",
     "evalue": "invalid syntax. Maybe you meant '==' or ':=' instead of '='? (1806088516.py, line 29)",
     "output_type": "error",
     "traceback": [
      "\u001b[1;36m  Cell \u001b[1;32mIn[5], line 29\u001b[1;36m\u001b[0m\n\u001b[1;33m    X=df.drop['Type',axis=1].values\u001b[0m\n\u001b[1;37m                     ^\u001b[0m\n\u001b[1;31mSyntaxError\u001b[0m\u001b[1;31m:\u001b[0m invalid syntax. Maybe you meant '==' or ':=' instead of '='?\n"
     ]
    }
   ],
   "source": [
    "import numpy as np\n",
    "from collections import Counter\n",
    "from sklearn.model_selection import train_test_split\n",
    "\n",
    "def euclid(x1,x2):\n",
    "    distance=np.sqrt(np.sum((x1-x2)**2))\n",
    "    return distance\n",
    "\n",
    "class KNN:\n",
    "    def __init__(self,k=3):\n",
    "        self.k=3\n",
    "\n",
    "    def fit(self,X,Y):\n",
    "        self.X_train=X\n",
    "        self.Y_train=Y\n",
    "\n",
    "    def predict(self,X):\n",
    "        predictions=[self._prediction(x) for x in X]\n",
    "\n",
    "    def _prediction(self,X):\n",
    "        distances=[euclid(X,x_train) for x_train in self.X_train]\n",
    "        k_indices=np.argsort(distances)[:self.k]\n",
    "        k_nearest_neigh=[self.Y_train[i] for i in k_indices]\n",
    "        most_comm=Counter(k_nearest_neigh).most_common()\n",
    "        return most_comm[0][0]\n",
    "\n",
    "\n",
    "df=pd.read_csv(\"glass.csv\")\n",
    "X=df.drop['Type', axis=1].values   X = df.drop('Type', axis=1).values\n",
    "Y=df['Type'].values\n",
    "X_train,X_test,Y_train,Y_test=train_test_split(X,Y,test_size=0.3,random_state=1234)\n",
    "\n",
    "clf=KNN(k=3)\n",
    "clf.fit(X_train,Y_train)\n",
    "prediction=clf.predict(X_test)\n",
    "\n",
    "accuracy=(np.sum(prediction== Y_test))/len(Y_test)\n",
    "print(\"Predictions\",predict)\n",
    "print(\"Accuracy\",accuracy)"
   ]
  },
  {
   "cell_type": "code",
   "execution_count": null,
   "id": "f0a5bf8f-9b4d-4f4b-ae9b-de9782200de9",
   "metadata": {},
   "outputs": [],
   "source": []
  }
 ],
 "metadata": {
  "kernelspec": {
   "display_name": "Python 3 (ipykernel)",
   "language": "python",
   "name": "python3"
  },
  "language_info": {
   "codemirror_mode": {
    "name": "ipython",
    "version": 3
   },
   "file_extension": ".py",
   "mimetype": "text/x-python",
   "name": "python",
   "nbconvert_exporter": "python",
   "pygments_lexer": "ipython3",
   "version": "3.11.1"
  }
 },
 "nbformat": 4,
 "nbformat_minor": 5
}
